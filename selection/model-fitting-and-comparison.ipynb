{
 "cells": [
  {
   "cell_type": "raw",
   "id": "62da0497-92dc-4eff-8866-c2fdeee34b94",
   "metadata": {},
   "source": [
    "---\n",
    "title: Model fitting and comparison\n",
    "bibliography: ../references.bib\n",
    "---"
   ]
  },
  {
   "attachments": {},
   "cell_type": "markdown",
   "id": "c27bb190-874b-4765-b201-2353d5f99eac",
   "metadata": {},
   "source": [
    "::: {.callout-caution}\n",
    "## Availability\n",
    "\n",
    "This section will be available Thursday, 29 June 2023.\n",
    ":::"
   ]
  }
 ],
 "metadata": {
  "kernelspec": {
   "display_name": "Python 3 (ipykernel)",
   "language": "python",
   "name": "python3"
  },
  "language_info": {
   "codemirror_mode": {
    "name": "ipython",
    "version": 3
   },
   "file_extension": ".py",
   "mimetype": "text/x-python",
   "name": "python",
   "nbconvert_exporter": "python",
   "pygments_lexer": "ipython3",
   "version": "3.10.10"
  }
 },
 "nbformat": 4,
 "nbformat_minor": 5
}
