{
 "cells": [
  {
   "cell_type": "raw",
   "id": "e699c892-481c-4e4e-8d48-3f5db044e964",
   "metadata": {},
   "source": [
    "---\n",
    "title: What is a probability?\n",
    "highlight-style: oblivion\n",
    "format:\n",
    "    html:\n",
    "        code-tools: true\n",
    "---"
   ]
  },
  {
   "cell_type": "markdown",
   "id": "20723211-ac1b-419a-94f3-183088796922",
   "metadata": {
    "id": "7neaHOC6awRe"
   },
   "source": [
    "A probability is a measurement of a possibility (relative to a range of possibilities). Probability theory is a way of formalizing this idea. The most common such formalization–the [Kolmogorov axioms](https://en.wikipedia.org/wiki/Probability_axioms)–can be thought of as defining: (i) what it means to be a possibility; and (ii) what it means to measure a possibility.^[What it means for a quantity to be a probability is a surprisingly contentious topic. It's an interesting topic–and I encourage you to read about [the various possibilities](https://plato.stanford.edu/entries/probability-interpret/)–but for the purposes of this course, we will tend to think of probabilities as a quantification of a degree of belief.  This interpretation is sometimes referred to as the subjective or Bayesian interpretation.]\n",
    "\n",
    "## What it means to be a possibility\n",
    "\n",
    "The Kolmogorov axioms start by specifying a set $\\Omega$ that contains all and only the things that can possibly happen. This set is known as the *sample space*. So what it means to be a possibility is a brute fact: it's all and only the things in $\\Omega$. \n",
    "\n",
    "That's very abstract, so let's consider a few examples relevant to this class:\n",
    "\n",
    "1. $\\Omega$ could the set of all phonemes in a language (or some subset thereof)–e.g. the English vowels $\\Omega = \\{\\text{e, i, o, u, æ, ɑ, ɔ, ə, ɛ, ɪ, ʊ}\\}$.\n",
    "2. $\\Omega$ could be the set of all pairs of first and second formants–represented as all pairs of positive real numbers $\\mathbb{R}_+^2$.^[If you've taken a phonetics course, you know that this definition overgenerates possibilities, since the values that the first and second formats can take on are constrained by the structure of the human vocal tract.]\n",
    "3. $\\Omega$ could be the set of all strings of phonemes in a language–e.g. if $\\Sigma$ is the set of phonemes, then $\\Omega = \\Sigma^* = \\bigcup_{i=0}^\\infty \\Sigma^i$.\n",
    "4. $\\Omega$ could be the set of all strings of morphemes in a language–e.g. if $\\Sigma$ is the set of morphemes, then $\\Omega = \\Sigma^* = \\bigcup_{i=0}^\\infty \\Sigma^i$.\n",
    "5. $\\Omega$ could be the set of all grammatical derivations for a grammar $G$–e.g. if $G = \\langle \\Sigma, V, R, S \\rangle$ (with $R \\subseteq V \\times (V \\cup \\Sigma \\cup \\{\\epsilon\\})^+$) is a context free grammar, then $\\Omega = \\bigcup_{s \\in L_G} P_G(s)$, where $L_G$ is the language generatd by $G$ and $P_G$ is a parser for $G$.\n",
    "\n",
    "The axioms then move forward by defining classes of possibilities $F \\subseteq \\Omega$, which together form a classification of possibilities $\\mathcal{F} \\subseteq 2^\\Omega$. These classes of possibilities are known as *events* and the classification of possibilities is known as the *event space*. It is events, which can contain just a single possibility, that we measure the probability of.^[Don't ask me why, but $\\mathcal{F}$ is standard notation for the event space. Why we don't use $\\mathcal{E}$ is beyond me. It might be some convention from measure theory I'm not aware of; or it might have to do with not confusing the event space with the expectation $\\mathbb{E}$, which we'll review below.]\n",
    "\n",
    "### Two event spaces for (a subset of) English pronouns \n",
    "\n",
    "The event space is where interesting linguistic structure enters the picture. Let's look at a few examples of event spaces that assume that the sample space is the following set of pronouns of English: $\\Omega = \\{\\text{I}, \\text{me}, \\text{you}, \\text{they}, \\text{them},  \\text{it},  \\text{she}, \\text{her}, \\text{he}, \\text{him},  \\text{we}, \\text{us}\\}$. "
   ]
  },
  {
   "cell_type": "code",
   "execution_count": 92,
   "id": "fb11873b-cc71-456c-9a8f-f79d2a5c68aa",
   "metadata": {
    "tags": []
   },
   "outputs": [],
   "source": [
    "emptyset = frozenset()\n",
    "pronouns = frozenset({\n",
    "    \"I\", \"me\", \n",
    "    \"you\", \n",
    "    \"they\", \"them\", \n",
    "    \"it\", \n",
    "    \"she\", \"her\", \n",
    "    \"he\", \"him\", \n",
    "    \"we\", \"us\",\n",
    "})"
   ]
  },
  {
   "cell_type": "markdown",
   "id": "c77c730a-4b5d-4df1-a5f0-26d9484364a1",
   "metadata": {
    "id": "7neaHOC6awRe"
   },
   "source": [
    "#### The person event space\n",
    "\n",
    "One possible event space distinguishes these pronouns with respect to third v. non-third: $\\mathcal{F}_\\text{person} = \\{F_\\text{[+third]}, F_\\text{[-third]}, \\Omega, \\emptyset\\}$, with $F_\\text{[+third]} = \\{\\text{they}, \\text{them}, \\text{it}, \\text{she}, \\text{her}, \\text{he}, \\text{him}\\}$ and $F_\\text{[-third]} = \\Omega - F_\\text{[+third]}$."
   ]
  },
  {
   "cell_type": "code",
   "execution_count": 93,
   "id": "aa92cf6c-6b81-4e61-b5e7-090f22b84f8f",
   "metadata": {
    "tags": []
   },
   "outputs": [],
   "source": [
    "third = frozenset({\"they\", \"them\", \"it\", \"she\", \"her\", \"he\", \"him\",})\n",
    "nonthird = pronouns - third\n",
    "\n",
    "f_person = frozenset({\n",
    "    frozenset(emptyset), \n",
    "    frozenset(third), frozenset(nonthird), \n",
    "    frozenset(pronouns)\n",
    "})"
   ]
  },
  {
   "cell_type": "markdown",
   "id": "f1ac18e2-9b2f-4962-a359-69a732789e0e",
   "metadata": {
    "id": "7neaHOC6awRe"
   },
   "source": [
    "You'll notice that beyond having just the set of third v. non-third pronouns in the event space, we also have the entire set of pronouns $\\Omega$ itself alongside the empty set $\\emptyset$. The reasons for this are technical: to make certain aspects of the formalization of what it means to measure possibilities work out nicely, we need the event space $\\mathcal{F}$ to form what is known as a [$\\sigma$-algebra](https://en.wikipedia.org/wiki/%CE%A3-algebra) on the sample space $\\Omega$. All this means is that:\n",
    "\n",
    "1. $\\mathcal{F} \\subseteq 2^\\Omega$\n",
    "2. $E \\in \\mathcal{F}$ iff $\\Omega - E \\in \\mathcal{F}$ (*closure under complement*)\n",
    "3. $\\bigcup \\mathcal{E} \\in \\mathcal{F}$ for all countable $\\mathcal{E} \\subseteq \\mathcal{F}$ (*closure under countable union*)\n",
    "4. $\\bigcap \\mathcal{E} \\in \\mathcal{F}$ for all countable $\\mathcal{E} \\subseteq \\mathcal{F}$ (*closure under countable intersection*)\n",
    "\n",
    "You can check that all of these conditions are satisfied for $\\mathcal{F}_\\text{person}$ only if $\\Omega$ and $\\emptyset$ are both in $\\mathcal{F}$. When $\\mathcal{F} \\subseteq 2^\\Omega$ is a $\\sigma$-algebra, the pair $\\langle \\Omega, \\mathcal{F} \\rangle$ is referred to as a [measurable space](https://en.wikipedia.org/wiki/Measurable_space). When $\\Omega$ is finite–as it is here–we say that $\\langle \\Omega, \\mathcal{F} \\rangle$ is more specifically a *finite* measurable space."
   ]
  },
  {
   "cell_type": "code",
   "execution_count": 94,
   "id": "ee39b55b-7cb5-49bd-8344-9283a2326281",
   "metadata": {
    "id": "vwHobRlvANGT"
   },
   "outputs": [],
   "source": [
    "from typing import Set, FrozenSet, Iterable\n",
    "from itertools import chain, combinations\n",
    "from functools import reduce\n",
    "\n",
    "SampleSpace = FrozenSet[str]\n",
    "Event = FrozenSet[str]\n",
    "SigmaAlgebra = FrozenSet[Event]\n",
    "\n",
    "def powerset(iterable: Iterable) -> Iterable:\n",
    "    \"\"\"The power set of a set\n",
    "\n",
    "    See https://docs.python.org/3/library/itertools.html#itertools-recipes\n",
    "\n",
    "    Parameters\n",
    "    ----------\n",
    "    iterable\n",
    "        The set to take the power set of\n",
    "    \"\"\"\n",
    "    s = list(iterable)\n",
    "    return chain.from_iterable(combinations(s, r) for r in range(len(s)+1))\n",
    "\n",
    "class FiniteMeasurableSpace:\n",
    "    \"\"\"A finite measurable space\n",
    "    \n",
    "    Parameters\n",
    "    ----------\n",
    "    atoms\n",
    "        The atoms of the space\n",
    "    sigma_algebra\n",
    "        The σ-algebra of the space    \n",
    "    \"\"\"\n",
    "    def __init__(self, atoms: SampleSpace, sigma_algebra: SigmaAlgebra):\n",
    "        self._atoms = atoms\n",
    "        self._sigma_algebra = sigma_algebra\n",
    "\n",
    "        self._validate()\n",
    "\n",
    "    def _validate(self):\n",
    "        for subset in self._sigma_algebra:\n",
    "            # check powerset condition\n",
    "            if not subset <= self._atoms:\n",
    "                raise ValueError(\n",
    "                    \"All events must be a subset of the atoms. \"\n",
    "                    f\"{set(subset)} is an event but not a subset.\"\n",
    "                )\n",
    "\n",
    "            # check closure under complement\n",
    "            if not (self._atoms - subset) in self._sigma_algebra:\n",
    "                raise ValueError(\n",
    "                    \"The σ-algebra must be closed under complements. \"\n",
    "                    f\"{set(self._atoms - subset)} is the complement of {set(subset)}, \"\n",
    "                    \"which is an event, but it is not an event.\"\n",
    "                )\n",
    "\n",
    "        for subsets in powerset(self._sigma_algebra):\n",
    "            subsets = list(subsets)\n",
    "\n",
    "            # python doesn't like to reduce empty iterables\n",
    "            if not subsets:\n",
    "                continue\n",
    "\n",
    "            # check closure under finite union\n",
    "            union = frozenset(reduce(frozenset.union, subsets))\n",
    "            if union not in self._sigma_algebra:\n",
    "                raise ValueError(\n",
    "                    \"The σ-algebra must be closed under countable union. \"\n",
    "                    f\"{union} is a union of events {subsets} but not an event.\"\n",
    "                )\n",
    "\n",
    "            # check closure under finite intersection\n",
    "            intersection = frozenset(reduce(frozenset.intersection, subsets))\n",
    "            if intersection not in self._sigma_algebra:\n",
    "                raise ValueError(\n",
    "                    \"The σ-algebra must be closed under finite intersection. \"\n",
    "                    f\"{set(intersection)} is the intersection of events {subsets} but \"\n",
    "                    \"not an event.\"\n",
    "                )\n",
    "                \n",
    "        print(\"This pair is a finite measurable space.\")\n",
    "\n",
    "    @property\n",
    "    def atoms(self) -> SampleSpace: \n",
    "        return self._atoms\n",
    "\n",
    "    @property\n",
    "    def sigma_algebra(self) -> SigmaAlgebra:\n",
    "        return self._sigma_algebra"
   ]
  },
  {
   "cell_type": "markdown",
   "id": "0fe0f5cc-8f40-40ed-b61e-fe8cc6d65d2c",
   "metadata": {},
   "source": [
    "The $\\sigma$-algebra conditions are checked as part of initializing the implementation of `FiniteMeasurableSpace`, and so we see that $\\langle \\Omega, \\mathcal{F}_\\text{person}\\rangle$ is a measurable space."
   ]
  },
  {
   "cell_type": "code",
   "execution_count": 95,
   "id": "8a880dc0-5bac-4f24-bdc0-e2bbd75dd45e",
   "metadata": {
    "tags": []
   },
   "outputs": [
    {
     "name": "stdout",
     "output_type": "stream",
     "text": [
      "This pair is a finite measurable space.\n"
     ]
    }
   ],
   "source": [
    "person_space = FiniteMeasurableSpace(pronouns, f_person)"
   ]
  },
  {
   "cell_type": "markdown",
   "id": "4ef624d5-0aa5-4642-acc9-dd3a793ce39c",
   "metadata": {
    "id": "7neaHOC6awRe"
   },
   "source": [
    "#### The case event space\n",
    "\n",
    "Another possible event space that is slightly more interesting distinguishes pronouns with respect to case: $\\mathcal{F}_\\text{case} = \\{F_\\text{[+acc]}, F_\\text{[-acc]}, F_\\text{[+acc]} \\cap F_\\text{[-acc]}, \\Omega - F_\\text{[+acc]}, \\Omega - F_\\text{[-acc]}, \\Omega - [F_\\text{[+acc]} \\cap F_\\text{[-acc]}], \\Omega, \\emptyset\\}$, with $F_\\text{[+acc]} = \\{\\text{me}, \\text{you}, \\text{them}, \\text{her}, \\text{him}, \\text{it}, \\text{us}\\}$ and $F_\\text{[-acc]} = \\{\\text{I}, \\text{you}, \\text{they}, \\text{she}, \\text{he}, \\text{it}, \\text{we}\\}$. Beyond the set of pronouns $\\Omega$, the empty set $\\emptyset$, the set of accusative pronouns $F_\\text{[+acc]}$ and the set of non-accusative pronouns $F_\\text{[-acc]}$, we additionally need:\n",
    "\n",
    "1. The set of pronouns that can be either accusative or non-accusative $F_\\text{[+acc]} \\cap F_\\text{[-acc]} = \\{\\text{you}, \\text{it}\\}$. \n",
    "2. The set of non-accusatives that cannot be accusative $\\Omega - F_\\text{[+acc]} = \\{\\text{I}, \\text{they}, \\text{he}, \\text{she}, \\text{we}\\}$\n",
    "3. The set of accusatives that cannot be non-accusative $\\Omega - F_\\text{[-acc]} = \\{{\\text{me}, \\text{them}, \\text{her}, \\text{us}, \\text{him}}\\}$\n",
    "3. The set of pronouns that cannot be both accusative and non-accusative $\\Omega - [F_\\text{[+acc]} \\cap F_\\text{[-acc]}]$.\n",
    "\n",
    "The first set is required to be in $\\mathcal{F}_\\text{case}$ according to condition 4 of being a $\\sigma$-algebra.^[The analogous set $F_\\text{[+third]} \\cap F_\\text{[-third]}$ for $\\mathcal{F}_\\text{person}$ is already accounted for, since $F_\\text{[+third]}$ and $F_\\text{[-third]}$ are disjoint and thus $F_\\text{[+third]} \\cap F_\\text{[-third]} = \\emptyset$, which is in $\\mathcal{F}_\\text{person}$.] The other three sets are required to be in $\\mathcal{F}_\\text{case}$ according to condition 2 of being a $\\sigma$-algebra.^[Condition 4 of being a $\\sigma$-algebra requires $F_\\text{[+acc]} \\cup F_\\text{[-acc]} \\in \\mathcal{F}_\\text{person}$ (among other unions), but we do not need to explicitly say this, since $F_\\text{[+acc]} \\cup F_\\text{[-acc]} = \\Omega$, which is already specified to be in $\\mathcal{F}_\\text{case}$.]"
   ]
  },
  {
   "cell_type": "code",
   "execution_count": 96,
   "id": "64c2c0c7-8ce7-418b-ad34-97d69af0885d",
   "metadata": {
    "id": "RX5DJlHbG_dP"
   },
   "outputs": [
    {
     "name": "stdout",
     "output_type": "stream",
     "text": [
      "This pair is a finite measurable space.\n"
     ]
    }
   ],
   "source": [
    "acc = frozenset({\"me\", \"you\", \"them\", \"her\", \"him\", \"it\", \"us\"})\n",
    "nonacc = frozenset({\"I\", \"you\", \"they\", \"she\", \"he\", \"it\", \"we\"})\n",
    "\n",
    "f_case = frozenset({\n",
    "    frozenset(emptyset), \n",
    "    frozenset(acc), frozenset(nonacc),\n",
    "    frozenset(acc & nonacc),\n",
    "    frozenset(pronouns - acc),\n",
    "    frozenset(pronouns - nonacc),\n",
    "    frozenset(pronouns - (acc & nonacc)),\n",
    "    frozenset(pronouns)\n",
    "})\n",
    "\n",
    "case_space = FiniteMeasurableSpace(pronouns, f_case)"
   ]
  },
  {
   "cell_type": "markdown",
   "id": "c84ecd60-a00f-4125-bdd1-bf49605fc5d0",
   "metadata": {
    "id": "0xVypKXMAIhL"
   },
   "source": [
    "### Combining event spaces\n",
    "\n",
    "Given two measurable spaces with the same sample space, such as $\\mathcal{F}_\\text{person}$ and $\\mathcal{F}_\\text{case}$, we might want to combine them to create a measurable space $\\mathcal{F}_\\text{person-case}$ that contains events such as $F_\\text{[+third,+acc]}$.\n",
    "\n",
    "::: {.callout-caution}\n",
    "## Question\n",
    "\n",
    "Can we define $\\mathcal{F}_\\text{person-case} \\equiv \\mathcal{F}_\\text{person} \\cup \\mathcal{F}_\\text{case}$. If not, why not?\n",
    ":::\n",
    "\n",
    "::: {.callout-tip collapse=\"true\"}\n",
    "## Answer\n",
    "\n",
    "We cannot define $\\mathcal{F}_\\text{person-case} \\equiv \\mathcal{F}_\\text{person} \\cup \\mathcal{F}_\\text{case}$. While Condition 1 above would be satisfied (that's easy), we would be missing quite a few sets that Conditions 2-4 require. For instance, the third person accusative pronouns $F_\\text{[+third,+acc]} \\equiv F_\\text{[+third]} \\cap F_\\text{[+acc]}$ would not be an event. \n",
    ":::"
   ]
  },
  {
   "cell_type": "code",
   "execution_count": 97,
   "id": "e818ecb4-c77e-4a09-b04d-0dcdaace569c",
   "metadata": {
    "colab": {
     "base_uri": "https://localhost:8080/"
    },
    "executionInfo": {
     "elapsed": 6,
     "status": "ok",
     "timestamp": 1663183612456,
     "user": {
      "displayName": "Aaron Steven White",
      "userId": "06256629009318567325"
     },
     "user_tz": 240
    },
    "id": "4ICDjvr5L8BB",
    "outputId": "930414ce-e929-4bab-8581-11c4718ee218"
   },
   "outputs": [
    {
     "name": "stdout",
     "output_type": "stream",
     "text": [
      "ValueError: The σ-algebra must be closed under countable union. frozenset({'he', 'me', 'we', 'I', 'they', 'it', 'she', 'you', 'us'}) is a union of events [frozenset({'they', 'he', 'it', 'she', 'you', 'we', 'I'}), frozenset({'me', 'we', 'I', 'you', 'us'})] but not an event.\n"
     ]
    }
   ],
   "source": [
    "try:\n",
    "    person_space = FiniteMeasurableSpace(pronouns, f_person.union(f_case))\n",
    "except ValueError as e:\n",
    "    print(f\"ValueError: {e}\")"
   ]
  },
  {
   "cell_type": "markdown",
   "id": "a8362fa1-fbff-48f8-a7a1-42ce077ffea9",
   "metadata": {
    "id": "zQcw5SFFL5Lo"
   },
   "source": [
    "This point demonstrates an important fact about $\\sigma$-algebras: if you design a classification based on some (countable) set of features like person and case, the constraint that $\\mathcal{F}$ be a $\\sigma$-algebra on $\\Omega$ implies that $\\mathcal{F}$ contains events corresponding to all possible conjunctions (e.g. third and accusative) and disjunctions (e.g. third and/or accusative) of those features. So we need to extend $\\mathcal{F}_\\text{person} \\cup \\mathcal{F}_\\text{case}$ with additional sets. We call this extension the $\\sigma$-algebra *generated by the family of sets* $\\mathcal{F}_\\text{person} \\cup \\mathcal{F}_\\text{case}$, denoted $\\sigma\\left(\\mathcal{F}_\\text{person} \\cup \\mathcal{F}_\\text{case}\\right)$."
   ]
  },
  {
   "cell_type": "code",
   "execution_count": 98,
   "id": "36e9c2c8-7522-4f6e-935b-8d0bd8d3ce0b",
   "metadata": {
    "colab": {
     "base_uri": "https://localhost:8080/"
    },
    "executionInfo": {
     "elapsed": 352,
     "status": "ok",
     "timestamp": 1663183612804,
     "user": {
      "displayName": "Aaron Steven White",
      "userId": "06256629009318567325"
     },
     "user_tz": 240
    },
    "id": "YQE2J7m1MWUv",
    "outputId": "73f585f7-b3ad-4d73-c852-425dfd570166"
   },
   "outputs": [],
   "source": [
    "def generate_sigma_algebra(family: SigmaAlgebra) -> SigmaAlgebra:\n",
    "    \"\"\"Generate a σ-algebra from a family of sets\n",
    "    \n",
    "    Parameters\n",
    "    ----------\n",
    "    family\n",
    "        The family of sets from which to generate the σ-algebra\n",
    "    \"\"\"\n",
    "\n",
    "    sigma_algebra = set(family)\n",
    "    old_sigma_algebra = set(family)\n",
    "    \n",
    "    complete = False\n",
    "\n",
    "    while not complete:\n",
    "        for subsets in powerset(old_sigma_algebra):\n",
    "            subsets = list(subsets)\n",
    "\n",
    "            if not subsets:\n",
    "                continue\n",
    "\n",
    "            union = reduce(frozenset.union, subsets)\n",
    "            sigma_algebra.add(union)\n",
    "\n",
    "            intersection = reduce(frozenset.intersection, subsets)\n",
    "            sigma_algebra.add(intersection)\n",
    "\n",
    "        complete = sigma_algebra == old_sigma_algebra\n",
    "        old_sigma_algebra = set(sigma_algebra)\n",
    "\n",
    "    return frozenset(sigma_algebra)"
   ]
  },
  {
   "cell_type": "markdown",
   "id": "39711402-51c3-4a2b-af0e-5f2bee2fee89",
   "metadata": {},
   "source": [
    "One challenge is that generating this $\\sigma$-algebra for even relatively small families of sets can take a non-trivial amount of time. So for the remainder of this review, I'm going to cheat a bit and artificially distinguish the pronouns whose accusative and non-accusative variants are the same. "
   ]
  },
  {
   "cell_type": "code",
   "execution_count": 99,
   "id": "65700be3-9020-4d60-9217-23c4e8a5e82a",
   "metadata": {
    "tags": []
   },
   "outputs": [],
   "source": [
    "pronouns = frozenset({\n",
    "    \"I\", \"me\", \n",
    "    \"you_nonacc\", \"you_acc\", \n",
    "    \"they\", \"them\", \n",
    "    \"it_nonacc\", \"it_acc\", \n",
    "    \"she\", \"her\", \n",
    "    \"he\", \"him\", \n",
    "    \"we\", \"us\",\n",
    "})"
   ]
  },
  {
   "cell_type": "markdown",
   "id": "7e8f825c-8bf6-45c4-94a5-54145ce73a4d",
   "metadata": {},
   "source": [
    "This move allows us to define the event space more simply."
   ]
  },
  {
   "cell_type": "code",
   "execution_count": 100,
   "id": "0e1fb1f2-e197-4d6a-a0e8-f6deba50e85c",
   "metadata": {
    "id": "NV2Hnfq0Oi4r"
   },
   "outputs": [
    {
     "name": "stdout",
     "output_type": "stream",
     "text": [
      "This pair is a finite measurable space.\n"
     ]
    }
   ],
   "source": [
    "acc = frozenset({\"me\", \"you_acc\", \"them\", \"her\", \"him\", \"it_acc\", \"us\"})\n",
    "nonacc = frozenset({\"I\", \"you_nonacc\", \"they\", \"she\", \"he\", \"it_nonacc\", \"we\"})\n",
    "\n",
    "f_case = frozenset({\n",
    "    frozenset(emptyset), \n",
    "    frozenset(acc), frozenset(nonacc),\n",
    "    frozenset(pronouns)\n",
    "})\n",
    "\n",
    "case_space = FiniteMeasurableSpace(pronouns, f_case)"
   ]
  },
  {
   "cell_type": "markdown",
   "id": "a47295e4-dd4d-48ab-91b5-6e5c641ebfeb",
   "metadata": {},
   "source": [
    "To ensure that the our person and case spaces have the same sample space, we will similarly need to redefine the person space."
   ]
  },
  {
   "cell_type": "code",
   "execution_count": 101,
   "id": "5a503e13-9690-4223-b9a6-9446874b880a",
   "metadata": {
    "tags": []
   },
   "outputs": [
    {
     "name": "stdout",
     "output_type": "stream",
     "text": [
      "This pair is a finite measurable space.\n"
     ]
    }
   ],
   "source": [
    "third = frozenset({\"they\", \"them\", \"it_acc\", \"it_nonacc\", \"she\", \"her\", \"he\", \"him\"})\n",
    "nonthird = pronouns - third\n",
    "\n",
    "f_person = frozenset({\n",
    "    frozenset(emptyset), \n",
    "    frozenset(third), frozenset(nonthird), \n",
    "    frozenset(pronouns)\n",
    "})\n",
    "\n",
    "person_space = FiniteMeasurableSpace(pronouns, f_person)"
   ]
  },
  {
   "cell_type": "markdown",
   "id": "02e78d70-ff7e-4b7a-800c-dd2266afc6d7",
   "metadata": {},
   "source": [
    "Finally, we can generate the $\\sigma$-algebra for our person-case space and check that it's valid."
   ]
  },
  {
   "cell_type": "code",
   "execution_count": 102,
   "id": "341396d9-f00d-4d8f-911c-c96a77bc5b4a",
   "metadata": {
    "tags": []
   },
   "outputs": [
    {
     "name": "stdout",
     "output_type": "stream",
     "text": [
      "This pair is a finite measurable space.\n"
     ]
    }
   ],
   "source": [
    "f_person_case = generate_sigma_algebra(f_person | f_case)\n",
    "\n",
    "person_case_space = FiniteMeasurableSpace(pronouns, f_person_case)"
   ]
  },
  {
   "cell_type": "markdown",
   "id": "89cdcbd8-2b70-4c5f-9f2e-e49306604f7c",
   "metadata": {
    "id": "0pajbCllU8XG"
   },
   "source": [
    "### Considerations around defining event spaces\n",
    "\n",
    "This way of setting up sample spaces is useful when we have strong *a priori* assumptions we want to inject into our probability models. We'll see cases of this assumption injection as we move through the course. In many cases, however, we want an event space that makes fewer assumptions. So when the sample space is finite–as it is here–we'll often just default to $\\mathcal{F} \\equiv 2^\\Omega$, which is the \"finest\" event space on $\\Omega$ we can muster–i.e. it is a superset of all other possible event spaces. This sort of event space, which is often referred to as the *discrete event space* on $\\Omega$, will tend to ignore potentially useful prior knowledge we have about the sample space–e.g. morphosyntactic features that pronouns have–though it is possible to represent that knowledge \"in the measurement\", as we'll see.\n",
    "\n",
    "When the sample space is infinite, things get a bit trickier: the powerset is uncountable for even a countably infinite sample space–something that we need to consider in the context of working with strings and derivations.^[Remember that $2^{\\Sigma^*}$ is the set of all languages on $\\Sigma$; and the set of all languages, even when $\\Sigma$ is finite, is uncountable.] This property can be a problem for reasons I'll gesture at when we discuss [continuous probability distributions](random-variables-and-probability-distributions.ipynb#continuous-probability-distributions). So in general, we won't work with event spaces that are power sets of their corresponding sample space in this context. We'll instead work with what are called [Borel $\\sigma$-algebras](https://en.wikipedia.org/wiki/Borel_set). It's not important to understand the intricacies of what a Borel $\\sigma$-algebra is; I'll try to give you an intuition below. \n",
    "\n",
    "## What it means to measure a possibility\n",
    "\n",
    "I said that a probability is a measurement of a possibility. We've now formalized what a possibility is in this context. Now let's turn to the measurement part.\n",
    "\n",
    "The Kolmogorov axioms build the notion of a [probability measure](https://en.wikipedia.org/wiki/Probability_measure) from the more general concept of a [measure](https://en.wikipedia.org/wiki/Measure_(mathematics)). All a probability measure $\\mathbb{P}$ is going to do is to map from some event in the event space (e.g. third pronoun, third back pronoun, etc.) to a non-negative real value–with values corresponding to higher probabilities. So it is a function $\\mathbb{P}: \\mathcal{F} \\rightarrow \\mathbb{R}_+$. This condition is the first of the Kolmogorov axioms. \n",
    "\n",
    "1. $\\mathbb{P}: \\mathcal{F} \\rightarrow \\mathbb{R}_+$\n",
    "\n",
    "You might be used to thinking of probabilities as being between $[0, 1]$. This property is a consequence of the two other axioms: \n",
    "\n",
    "2. The probability of the entire sample space $\\mathbb{P}(\\Omega) = 1$ (the *assumption of unit measure*)\n",
    "3. Given a countable collection of events $E_1, E_2, \\ldots \\in \\mathcal{F}$ that is pairwise disjoint–i.e. $E_i \\cap E_j = \\emptyset$ for all $i \\neq j$–$\\mathbb{P}\\left(\\bigcup_i E_i\\right) = \\sum_i \\mathbb{P}(E_i)$ (the *assumption of [$\\sigma$-additivity](https://en.wikipedia.org/wiki/Sigma-additive_set_function)*) \n"
   ]
  },
  {
   "cell_type": "code",
   "execution_count": 103,
   "id": "df7aa979-ec37-4b96-b370-fa78ee67bc69",
   "metadata": {
    "id": "LsqwqdZ-XCHg"
   },
   "outputs": [],
   "source": [
    "from typing import Dict\n",
    "\n",
    "class ProbabilityMeasure:\n",
    "    \"\"\"A probability measure with finite support\n",
    "\n",
    "    Parameters\n",
    "    ----------\n",
    "    domain\n",
    "        The domain of the probability measure\n",
    "    measure\n",
    "        The graph of the measure\n",
    "    \"\"\"\n",
    "\n",
    "    def __init__(self, domain: FiniteMeasurableSpace, measure: Dict[Event, float]):\n",
    "        self._domain = domain\n",
    "        self._measure = measure\n",
    "\n",
    "        self._validate()\n",
    "\n",
    "    def __call__(self, event: Event) -> float:\n",
    "        return self._measure[event]\n",
    "\n",
    "    def _validate(self):\n",
    "        # check that the measure covers the domain\n",
    "        for event in self._domain.sigma_algebra:\n",
    "            if event not in self._measure:\n",
    "                raise ValueError(\n",
    "                    \"Probability measure must be defined for all events.\"\n",
    "                )\n",
    "\n",
    "        # check the assumption of unit measure\n",
    "        if self._measure[frozenset(self._domain.atoms)] != 1:\n",
    "            raise ValueError(\n",
    "                \"The probability of the sample space must be 1.\"\n",
    "            )\n",
    "\n",
    "        # check assumption of 𝜎-additivity\n",
    "        for events in powerset(self._domain.sigma_algebra):\n",
    "            events = list(events)\n",
    "\n",
    "            if not events:\n",
    "                continue\n",
    "\n",
    "            if not any(e1.intersection(e2) for e1, e2 in combinations(events, 2)):\n",
    "                prob_union = self._measure[reduce(frozenset.union, events)]\n",
    "                prob_sum = sum(self._measure[e] for e in events)\n",
    "\n",
    "            if round(prob_union, 4) != round(prob_sum, 4):\n",
    "                raise ValueError(\n",
    "                    \"The measure does not satisfy 𝜎-additivity.\"\n",
    "                )\n",
    "                \n",
    "        print(\"This probability measure is valid for the given measurable space.\")"
   ]
  },
  {
   "cell_type": "markdown",
   "id": "47eda137-036e-492d-ba95-f7a60126e95a",
   "metadata": {
    "id": "1FpSRpeAbQz6"
   },
   "source": [
    "One example of a probability measure for our measurable space $\\langle \\Omega, \\mathcal{F}_\\text{person-case}\\rangle$ is the uniform measure: $\\mathbb{P}(E) = \\frac{|E|}{|\\Omega|}$."
   ]
  },
  {
   "cell_type": "code",
   "execution_count": 104,
   "id": "1781653f-c72a-4670-8fbe-e4df234124ae",
   "metadata": {
    "id": "VAzmTntFbQ-S"
   },
   "outputs": [
    {
     "name": "stdout",
     "output_type": "stream",
     "text": [
      "This probability measure is valid for the given measurable space.\n"
     ]
    }
   ],
   "source": [
    "measure_person_case = ProbabilityMeasure(\n",
    "    person_case_space,\n",
    "    {e: len(e)/len(person_case_space.atoms) \n",
    "     for e in person_case_space.sigma_algebra} \n",
    ")"
   ]
  },
  {
   "cell_type": "markdown",
   "id": "aebc81b2-fc9b-4615-b8d8-c736d96e5818",
   "metadata": {
    "id": "6S1_l9OfWltk"
   },
   "source": [
    "These axioms imply that the range of $\\mathbb{P}$ is $[0, 1]$, even if its codomain is $\\mathbb{R}_+$; otherwise, it would have to be the case that $\\mathbb{P}(E) > 1$ for some $E \\subset \\Omega$. ($E$ would have to be a strict subset of $\\Omega$, since $\\Omega \\supseteq E$ for all $E \\in \\mathcal{F}$ and $\\mathbb{P}(\\Omega) = 1$ by definition.) But $\\mathbb{P}(E) > 1$ cannot hold, since $\\mathbb{P}(\\Omega - E)$–which must be defined, given that $\\mathcal{F}$ is closed under complementation–is nonnegative; and thus  $\\mathbb{P}(E) + \\mathbb{P}(\\Omega - E) > \\mathbb{P}(\\Omega) = 1$ contradicts the third axiom $\\mathbb{P}(E) + \\mathbb{P}(\\Omega - E) = \\mathbb{P}(E \\cup [\\Omega - E]) = \\mathbb{P}(\\Omega) = 1$.  \n",
    "\n",
    "(One reason the codomain of $\\mathbb{P}$ is often specified as the more general $\\mathbb{R}_+$–rather than $[0, 1]$ is to make salient the fact that probabilities are analogous to other kinds of measurements, like weight, height, temperature, etc.)\n",
    "\n",
    "These axioms also imply that $\\mathbb{P}(\\emptyset) = 0$, since $\\mathbb{P}(\\Omega) = \\mathbb{P}(\\Omega \\cup \\emptyset) = \\mathbb{P}(\\Omega) + \\mathbb{P}(\\emptyset) = 1$, and so $\\mathbb{P}(\\emptyset) = 1 - \\mathbb{P}(\\Omega) = 0$.\n",
    "\n",
    "## Summing up\n",
    "\n",
    "We will formalize a *probability space* as a triple $\\langle \\Omega, \\mathcal{F}, \\mathbb{P} \\rangle$ with: \n",
    "\n",
    "1. A set $\\Omega$ (the *sample space*)\n",
    "2. A [$\\sigma$-algebra](https://en.wikipedia.org/wiki/%CE%A3-algebra) $\\mathcal{F}$ (the *event space*), where:\n",
    "   1. $\\mathcal{F} \\subseteq 2^\\Omega$\n",
    "   2. $E \\in \\mathcal{F}$ iff $\\Omega - E \\in \\mathcal{F}$ (*closure under complement*)\n",
    "   3. $\\bigcup \\mathcal{E} \\in \\mathcal{F}$ for all countable $\\mathcal{E} \\subseteq \\mathcal{F}$ (*closure under countable union*)\n",
    "   4. $\\bigcap \\mathcal{E} \\in \\mathcal{F}$ for all countable $\\mathcal{E} \\subseteq \\mathcal{F}$ (*closure under countable intersection*)\n",
    "3. A [probability measure](https://en.wikipedia.org/wiki/Probability_measure) $\\mathbb{P}$, where:\n",
    "   1. $\\mathbb{P}: \\mathcal{F} \\rightarrow \\mathbb{R}_+$ \n",
    "   2. The probability of the entire sample space $\\mathbb{P}(\\Omega) = 1$ (the *assumption of unit measure*)\n",
    "   3. Given a countable collection of events $E_1, E_2, \\ldots \\in \\mathcal{F}$ that is pairwise disjoint–i.e. $E_i \\cap E_j = \\emptyset$ for all $i \\neq j$–$\\mathbb{P}\\left(\\bigcup_i E_i\\right) = \\sum_i \\mathbb{P}(E_i)$ (the *assumption of [$\\sigma$-additivity](https://en.wikipedia.org/wiki/Sigma-additive_set_function)*)\n",
    "   \n",
    "It is this core that we build on in developing probabilistic models. To develop these models, it is useful to develop a few additional definitions and theorems."
   ]
  },
  {
   "cell_type": "markdown",
   "id": "087d2f07-06cc-472d-96a2-513d151f1a72",
   "metadata": {},
   "source": [
    "### Mutual exclusivity\n",
    "\n",
    "Two events $A \\in \\mathcal{F}$ and $B \\in \\mathcal{F}$ are *mutually exclusive* if they are disjoint: $A \\cap B = \\emptyset$. This implies that $\\mathbb{P}(A \\cap B) = \\mathbb{P}(\\emptyset) = 0$ for all mutually exclusive events $A$ and $B$. "
   ]
  },
  {
   "cell_type": "code",
   "execution_count": 29,
   "id": "e8a027ba-27cf-4084-bd43-dba27485dcd9",
   "metadata": {
    "id": "SuQA9G-oOjxA"
   },
   "outputs": [],
   "source": [
    "class ProbabilityMeasure(ProbabilityMeasure):\n",
    "\n",
    "    def are_mutually_exclusive(self, *events: Iterable[Event]):\n",
    "        self._validate_events(events)\n",
    "        return not any(e1.intersection(e2) for e1, e2 in combinations(events, 2))\n",
    "\n",
    "    def _validate_events(self, events: Iterable[Event]):\n",
    "        for i, event in enumerate(events):\n",
    "            if event not in self._domain.sigma_algebra:\n",
    "                raise ValueError(f\"event{i} is not in the event space.\")"
   ]
  },
  {
   "cell_type": "markdown",
   "id": "1023cc34-bf8e-4bcc-a311-163d1c225d83",
   "metadata": {
    "id": "rk2dnLPlOiz0"
   },
   "source": [
    "In our running example, the set of third-person pronouns $F_\\text{[+third]}$ and the set of non-third person pronouns $F_\\text{[-third]}$ are mutually exclusive events because $F_\\text{[+third]} \\cap F_\\text{[-third]} = \\emptyset$. "
   ]
  },
  {
   "cell_type": "code",
   "execution_count": 32,
   "id": "b2640948-e3c7-4d57-beae-d813dccaa416",
   "metadata": {
    "colab": {
     "base_uri": "https://localhost:8080/"
    },
    "executionInfo": {
     "elapsed": 5,
     "status": "ok",
     "timestamp": 1663183613617,
     "user": {
      "displayName": "Aaron Steven White",
      "userId": "06256629009318567325"
     },
     "user_tz": 240
    },
    "id": "dqrvosEnN2FW",
    "outputId": "f1bc196d-1c02-43b7-d035-d778846f0800"
   },
   "outputs": [
    {
     "data": {
      "text/plain": [
       "True"
      ]
     },
     "execution_count": 32,
     "metadata": {},
     "output_type": "execute_result"
    }
   ],
   "source": [
    "measure_person_case = ProbabilityMeasure(\n",
    "    person_case_space,\n",
    "    {e: len(e)/len(person_case_space.atoms) \n",
    "     for e in person_case_space.sigma_algebra} \n",
    ")\n",
    "\n",
    "measure_person_case.are_mutually_exclusive(third, nonthird)"
   ]
  },
  {
   "cell_type": "markdown",
   "id": "9ea94116-6d1f-4dfa-9176-cacfa549844a",
   "metadata": {
    "id": "bDJGgAJ2N0fq"
   },
   "source": [
    "\n",
    "### Joint probability\n",
    "\n",
    "The *joint probability* $\\mathbb{P}(A, B)$ of two events $A \\in \\mathcal{F}$ and $B \\in \\mathcal{F}$ is defined as the probability of the intersection of those two events $\\mathbb{P}(A, B) = \\mathbb{P}(A \\cap B)$, which must be defined give that $\\mathcal{F}$ is closed under countable intersection. \n"
   ]
  },
  {
   "cell_type": "code",
   "execution_count": 34,
   "id": "09bab149-a5ed-4899-ab95-6a43ae852901",
   "metadata": {
    "id": "B4ppGGJTPKil"
   },
   "outputs": [],
   "source": [
    "from typing import List\n",
    "\n",
    "class ProbabilityMeasure(ProbabilityMeasure):\n",
    "\n",
    "    def __call__(self, *events: Iterable[Event]) -> float:\n",
    "        self._validate_events(events)\n",
    "\n",
    "        intersection = reduce(frozenset.intersection, events)\n",
    "\n",
    "        return self._measure[intersection]"
   ]
  },
  {
   "cell_type": "markdown",
   "id": "b2c9815d-2416-4f70-a5a2-f321bb1fffda",
   "metadata": {
    "id": "y_EzlHfrPIfj"
   },
   "source": [
    "In our running example, the probability of a third-person accusative pronoun is the joint probability $\\mathbb{P}\\left(F_\\text{[+third]}, F_\\text{[+acc]}\\right)$."
   ]
  },
  {
   "cell_type": "code",
   "execution_count": 35,
   "id": "0c726da6-d9c4-4820-8cfb-477c6b9e2f20",
   "metadata": {
    "colab": {
     "base_uri": "https://localhost:8080/"
    },
    "executionInfo": {
     "elapsed": 163,
     "status": "ok",
     "timestamp": 1663183613777,
     "user": {
      "displayName": "Aaron Steven White",
      "userId": "06256629009318567325"
     },
     "user_tz": 240
    },
    "id": "3ekfdc_fQtWv",
    "outputId": "4d7e4345-0898-47b7-a9e1-e4b875063abc"
   },
   "outputs": [
    {
     "data": {
      "text/plain": [
       "0.2857142857142857"
      ]
     },
     "execution_count": 35,
     "metadata": {},
     "output_type": "execute_result"
    }
   ],
   "source": [
    "measure_person_case = ProbabilityMeasure(\n",
    "    person_case_space,\n",
    "    {e: len(e)/len(person_case_space.atoms) \n",
    "     for e in person_case_space.sigma_algebra} \n",
    ")\n",
    "\n",
    "measure_person_case(frozenset(third), frozenset(acc))"
   ]
  },
  {
   "cell_type": "markdown",
   "id": "fa6af530-a2de-4c7e-8c3c-21bab5a72316",
   "metadata": {
    "id": "BUUdhn5mQreD"
   },
   "source": [
    "### Conditional probability\n",
    "\n",
    "The probability of an event $A \\in \\mathcal{F}$ *conditioned on* (or *given*) an event $B \\in \\mathcal{F}$ is defined as $\\mathbb{P}(A \\mid B) = \\frac{\\mathbb{P}(A, B)}{\\mathbb{P}(B)}$. Note that $\\mathbb{P}(A \\mid B)$ is undefined if $\\mathbb{P}(B) = 0$."
   ]
  },
  {
   "cell_type": "code",
   "execution_count": 37,
   "id": "14a1a8a8-831d-4e21-bf47-97ed539a2396",
   "metadata": {
    "id": "-aGPDCu9Ro3m"
   },
   "outputs": [],
   "source": [
    "class ProbabilityMeasure(ProbabilityMeasure):\n",
    "\n",
    "    def __or__(self, conditions: Iterable[Event]) -> ProbabilityMeasure:\n",
    "        condition = reduce(frozenset.intersection, conditions)\n",
    "\n",
    "        self._validate_condition(condition)\n",
    "\n",
    "        measure = {\n",
    "            event: self(event, condition)/self(condition) \n",
    "            for event in self._domain.sigma_algebra\n",
    "        }\n",
    "\n",
    "        return ProbabilityMeasure(self._domain, measure)\n",
    "\n",
    "    def _validate_condition(self, condition: Event):\n",
    "        if condition not in self._domain.sigma_algebra:\n",
    "            raise ValueError(\"The conditions must be in the event space.\")\n",
    "\n",
    "        if self._measure[condition] == 0:\n",
    "            raise ZeroDivisionError(\"Conditions cannot have probability 0.\")"
   ]
  },
  {
   "cell_type": "markdown",
   "id": "e459b70b-fe39-4c4e-a11c-931dbdfd84bb",
   "metadata": {
    "id": "vlDgQ8PXXORD"
   },
   "source": [
    "In our running example, the probability that a pronoun is third-person given that it is accusative is the conditional probability $\\mathbb{P}\\left(F_\\text{[+third]} \\mid F_\\text{[+acc]}\\right) = \\frac{\\mathbb{P}\\left(F_\\text{[+third]}, F_\\text{[+acc]}\\right)}{\\mathbb{P}\\left(F_\\text{[+acc]}\\right)}$."
   ]
  },
  {
   "cell_type": "code",
   "execution_count": 38,
   "id": "a949f89c-fa91-4df2-9be4-e3cc9e1193fe",
   "metadata": {
    "colab": {
     "base_uri": "https://localhost:8080/"
    },
    "executionInfo": {
     "elapsed": 381,
     "status": "ok",
     "timestamp": 1663183614156,
     "user": {
      "displayName": "Aaron Steven White",
      "userId": "06256629009318567325"
     },
     "user_tz": 240
    },
    "id": "kCrfiXTeXQrG",
    "outputId": "4ce759cb-a3e7-40dc-880a-f58a046ff49f"
   },
   "outputs": [
    {
     "data": {
      "text/plain": [
       "0.5714285714285714"
      ]
     },
     "execution_count": 38,
     "metadata": {},
     "output_type": "execute_result"
    }
   ],
   "source": [
    "person_case_measure = {\n",
    "    event: len(event)/len(person_case_space.atoms) \n",
    "    for event in person_case_space.sigma_algebra\n",
    "}\n",
    "\n",
    "measure_person_case = ProbabilityMeasure(\n",
    "    person_case_space,\n",
    "    person_case_measure \n",
    ")\n",
    "\n",
    "measure_given_back = measure_person_case | [acc]\n",
    "\n",
    "measure_given_back(third)"
   ]
  },
  {
   "cell_type": "markdown",
   "id": "ea9b8f39-1ead-48ed-bef7-865c1ada15df",
   "metadata": {
    "id": "yD99RvXdRmpC"
   },
   "source": [
    "From this definition, it immediately follows that $\\mathbb{P}(A, B) = \\mathbb{P}(A \\mid B)\\mathbb{P}(B) = \\mathbb{P}(B \\mid A)\\mathbb{P}(A)$, which in turn implies [*Bayes' theorem*](https://en.wikipedia.org/wiki/Bayes%27_theorem).\n",
    "\n",
    "$$\\mathbb{P}(A \\mid B) = \\frac{\\mathbb{P}(A, B)}{\\mathbb{P}(B)} = \\frac{\\mathbb{P}(B \\mid A)\\mathbb{P}(A)}{\\mathbb{P}(B)}$$\n",
    "\n",
    "Bayes' theorem will be very important in this course.\n",
    "\n",
    "Another important consequence of the definition of conditional probability is the [chain rule](https://en.wikipedia.org/wiki/Chain_rule_(probability)):\n",
    "\n",
    "$$\\begin{align*}\\mathbb{P}(E_1, E_2, E_3, \\ldots, E_N) &= \\mathbb{P}(E_1)\\mathbb{P}(E_2 \\mid E_1)\\mathbb{P}(E_3 \\mid E_1, E_2)\\ldots\\mathbb{P}(E_N \\mid E_1, E_2, \\ldots, E_{N-1})\\\\ &= \\mathbb{P}(E_1)\\prod_{i=2}^N \\mathbb{P}(E_i\\mid E_1, \\ldots, E_{i-1})\\end{align*}$$\n",
    "\n",
    "The chain rule will also be very important in this course.\n",
    "\n",
    "### Independence\n",
    "\n",
    "An event $A \\in \\mathcal{F}$ is *independent* of an event $B \\in \\mathcal{F}$ (under $\\mathbb{P}$) if $\\mathbb{P}(A \\mid B) = \\mathbb{P}(A)$. A theoreom that immediately follows from this definition is that $A$ and $B$ are independent under $\\mathbb{P}$ if and only if $\\mathbb{P}(A, B) = \\mathbb{P}(A \\mid B)\\mathbb{P}(B) = \\mathbb{P}(A)\\mathbb{P}(B)$. \n"
   ]
  },
  {
   "cell_type": "code",
   "execution_count": 42,
   "id": "0518d8ee-3a1a-4d2a-bd8f-0a4936377d9f",
   "metadata": {
    "id": "J7-lRNb4aeSs"
   },
   "outputs": [],
   "source": [
    "class ProbabilityMeasure(ProbabilityMeasure):\n",
    "\n",
    "    def are_independent(self, *events):\n",
    "        self._validate_events(events)\n",
    "\n",
    "        joint = self(*events)\n",
    "        product = reduce(lambda x, y: x * y, [self(e) for e in events])\n",
    "\n",
    "        return joint == product"
   ]
  },
  {
   "cell_type": "markdown",
   "id": "1fa8595c-3ff5-4c24-97ca-18bf608b2c38",
   "metadata": {
    "id": "uYmn7l8rbXaf"
   },
   "source": [
    "In our running example of an event space structured by person and case, assuming all pronouns are equiprobable, none of the events are independent. In the discrete event space, many events will be independent."
   ]
  },
  {
   "cell_type": "code",
   "execution_count": 43,
   "id": "02117ec6-5195-48cb-b370-6c739da30220",
   "metadata": {
    "colab": {
     "base_uri": "https://localhost:8080/"
    },
    "executionInfo": {
     "elapsed": 5,
     "status": "ok",
     "timestamp": 1663183614157,
     "user": {
      "displayName": "Aaron Steven White",
      "userId": "06256629009318567325"
     },
     "user_tz": 240
    },
    "id": "avbIoohjbX4x",
    "outputId": "ba72bd41-3541-4154-ff90-ee0b19030173"
   },
   "outputs": [
    {
     "data": {
      "text/plain": [
       "True"
      ]
     },
     "execution_count": 43,
     "metadata": {},
     "output_type": "execute_result"
    }
   ],
   "source": [
    "measure_person_case = ProbabilityMeasure(\n",
    "    person_case_space,\n",
    "    {e: len(e)/len(person_case_space.atoms) \n",
    "     for e in person_case_space.sigma_algebra} \n",
    ")\n",
    "\n",
    "measure_person_case.are_independent(frozenset(third), frozenset(acc))"
   ]
  },
  {
   "cell_type": "markdown",
   "id": "fdfb22f7-5a9e-4ab8-80c5-616a7b7bb8a1",
   "metadata": {},
   "source": [
    "Note that independence is not the same as *mutual exclusivity*; indeed, mutually exclusive events are *not* independent, since $\\mathbb{P}(A \\mid B) = \\frac{\\mathbb{P}(A, B)}{\\mathbb{P}(B)} = \\frac{0}{\\mathbb{P}(B)} = 0$ (or is undefined if $\\mathbb{P}(B) = 0$) regardless of $\\mathbb{P}(A)$, and therefore either $\\mathbb{P}(A \\mid B)$ does not equal $\\mathbb{P}(A)$ or $\\mathbb{P}(B \\mid A)$ is undefined (because $\\mathbb{P}(A) = 0$), even when $\\mathbb{P}(B)$ is."
   ]
  }
 ],
 "metadata": {
  "kernelspec": {
   "display_name": "Python 3 (ipykernel)",
   "language": "python",
   "name": "python3"
  },
  "language_info": {
   "codemirror_mode": {
    "name": "ipython",
    "version": 3
   },
   "file_extension": ".py",
   "mimetype": "text/x-python",
   "name": "python",
   "nbconvert_exporter": "python",
   "pygments_lexer": "ipython3",
   "version": "3.10.10"
  }
 },
 "nbformat": 4,
 "nbformat_minor": 5
}
