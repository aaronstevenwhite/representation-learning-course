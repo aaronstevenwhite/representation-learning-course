{
 "cells": [
  {
   "cell_type": "raw",
   "id": "b08492c7-92b9-44ed-ba54-dc91a33a651d",
   "metadata": {},
   "source": [
    "---\n",
    "title: Model fitting and comparison\n",
    "bibliography: ../references.bib\n",
    "---"
   ]
  },
  {
   "cell_type": "markdown",
   "id": "ffa42ce5-385c-401a-ab50-24e3f0091306",
   "metadata": {},
   "source": [
    "::: {.callout-caution}\n",
    "## Availability\n",
    "\n",
    "This section will be available at a later date.\n",
    ":::"
   ]
  }
 ],
 "metadata": {
  "kernelspec": {
   "display_name": "Python 3 (ipykernel)",
   "language": "python",
   "name": "python3"
  },
  "language_info": {
   "codemirror_mode": {
    "name": "ipython",
    "version": 3
   },
   "file_extension": ".py",
   "mimetype": "text/x-python",
   "name": "python",
   "nbconvert_exporter": "python",
   "pygments_lexer": "ipython3",
   "version": "3.10.10"
  }
 },
 "nbformat": 4,
 "nbformat_minor": 5
}
