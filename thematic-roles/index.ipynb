{
 "cells": [
  {
   "cell_type": "raw",
   "id": "978c85ef-4171-4f67-9118-75789790a444",
   "metadata": {},
   "source": [
    "---\n",
    "title: Thematic Roles\n",
    "bibliography: ../references.bib\n",
    "---"
   ]
  },
  {
   "attachments": {},
   "cell_type": "markdown",
   "id": "1b8be061-3857-4360-b643-6ca5b362e944",
   "metadata": {},
   "source": [
    "::: {.callout-tip}\n",
    "## Reading\n",
    "\n",
    "**Data:** @reisinger_semantic_2015 and @white_universal_2020 on collecting corpus annotations of the proto-role properties proposed by @dowty_thematic_1991. We will use the Universal Decompositional Semantics (UDS) dataset [v2.0 @gantt_decomposing_2022], which is packaged with the decomp toolkit, available [here](https://github.com/decompositional-semantics-initiative/decomp). \n",
    "\n",
    "**Theory:** @levin_argument_2005[Ch. 2] on the explanatory role of generalized thematic roles.\n",
    ":::"
   ]
  }
 ],
 "metadata": {
  "kernelspec": {
   "display_name": "Python 3 (ipykernel)",
   "language": "python",
   "name": "python3"
  },
  "language_info": {
   "codemirror_mode": {
    "name": "ipython",
    "version": 3
   },
   "file_extension": ".py",
   "mimetype": "text/x-python",
   "name": "python",
   "nbconvert_exporter": "python",
   "pygments_lexer": "ipython3",
   "version": "3.10.10"
  }
 },
 "nbformat": 4,
 "nbformat_minor": 5
}
