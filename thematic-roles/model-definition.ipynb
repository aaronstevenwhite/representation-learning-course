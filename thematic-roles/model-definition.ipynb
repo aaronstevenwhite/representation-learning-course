{
 "cells": [
  {
   "cell_type": "raw",
   "id": "a7e0bba9-91d4-4b10-b80d-f3acde65614f",
   "metadata": {},
   "source": [
    "---\n",
    "title: Model definition\n",
    "bibliography: ../references.bib\n",
    "---"
   ]
  },
  {
   "cell_type": "markdown",
   "id": "01fba45d-5580-4efd-bfde-c59b1be4b8af",
   "metadata": {},
   "source": [
    "::: {.callout-caution}\n",
    "## Availability\n",
    "\n",
    "This section will be available at a later date.\n",
    ":::"
   ]
  }
 ],
 "metadata": {
  "kernelspec": {
   "display_name": "Python 3 (ipykernel)",
   "language": "python",
   "name": "python3"
  },
  "language_info": {
   "codemirror_mode": {
    "name": "ipython",
    "version": 3
   },
   "file_extension": ".py",
   "mimetype": "text/x-python",
   "name": "python",
   "nbconvert_exporter": "python",
   "pygments_lexer": "ipython3",
   "version": "3.10.10"
  }
 },
 "nbformat": 4,
 "nbformat_minor": 5
}
